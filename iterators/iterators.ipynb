{
 "cells": [
  {
   "cell_type": "markdown",
   "metadata": {},
   "source": [
    "# Iterators"
   ]
  },
  {
   "cell_type": "markdown",
   "metadata": {},
   "source": [
    "Un iterador es un objeto que permite recorrer uno a uno los elementos almacenados en una estructura de datos, y operar con ellos."
   ]
  },
  {
   "cell_type": "code",
   "execution_count": 3,
   "metadata": {},
   "outputs": [
    {
     "name": "stdout",
     "output_type": "stream",
     "text": [
      "<__main__.Primes object at 0x00000220AEA0ABA8>\n",
      "2\n",
      "3\n",
      "5\n",
      "7\n",
      "11\n",
      "13\n",
      "17\n",
      "19\n"
     ]
    }
   ],
   "source": [
    "class Primes:\n",
    "    \"\"\" Primes Class \"\"\"\n",
    "    def __init__(self,max):\n",
    "        self._max = max\n",
    "        self._number = 1\n",
    "    \n",
    "    def __iter__(self):\n",
    "        return self\n",
    "    \n",
    "    def check_prime(self,number):\n",
    "        for divisor in range(2, int(number ** 0.5) + 1):\n",
    "            if number % divisor == 0:\n",
    "                return False\n",
    "        return True        \n",
    "    \n",
    "    def __next__(self):\n",
    "        self._number += 1\n",
    "        if self._number >= self._max:\n",
    "            raise StopIteration\n",
    "        elif self.check_prime(self._number):\n",
    "            return self._number\n",
    "        else:\n",
    "            return self.__next__()\n",
    "    \n",
    "primes = Primes(10)\n",
    "print(primes)\n",
    "\n",
    "for x in primes:\n",
    "    print(x)\n",
    "\n"
   ]
  },
  {
   "cell_type": "code",
   "execution_count": 84,
   "metadata": {},
   "outputs": [
    {
     "name": "stdout",
     "output_type": "stream",
     "text": [
      "{'o': 2, 'a': 2, 'L': 1}\n"
     ]
    }
   ],
   "source": [
    "class CountLetter:\n",
    "    \"\"\" Count Letter \"\"\"\n",
    "    \n",
    "    def __init__(self,text):\n",
    "        \"\"\" Constructor initial\"\"\"\n",
    "        self._tezt = text\n",
    "        self._max = len(text)\n",
    "        self._number = 0\n",
    "        self._condition  =[\n",
    "            'o',\n",
    "            'a',\n",
    "            'L'\n",
    "        ]\n",
    "        self._result = self.generateDict()\n",
    "    \n",
    "    def counterLetters(self,letter):\n",
    "        \"\"\" Conunter letter and exits \"\"\"\n",
    "        if letter in self._condition:\n",
    "            self._result[letter] += 1\n",
    "            return True\n",
    "        return False\n",
    "        \n",
    "    \n",
    "    def generateDict(self,_dict = {}):\n",
    "        \"\"\" Generate Dict \"\"\"\n",
    "        for index  in self._condition:\n",
    "            _dict[index] = 0\n",
    "        return _dict\n",
    "    \n",
    "    def __iter__(self):\n",
    "        return self\n",
    "\n",
    "    def __next__(self):\n",
    "        self._number += 1\n",
    "        if self._number > self._max:\n",
    "            print(self._result)\n",
    "            raise StopIteration            \n",
    "        elif self.counterLetters(self._tezt[self._number-1]):    \n",
    "            return self.__next__()\n",
    "        else:\n",
    "            return self.__next__()\n",
    "\n",
    "letter = CountLetter(\"Lorem Ipsum is simply dummy text of the aa\")\n",
    "\n",
    "\n",
    "for _ in letter: pass    "
   ]
  },
  {
   "cell_type": "code",
   "execution_count": null,
   "metadata": {},
   "outputs": [],
   "source": []
  }
 ],
 "metadata": {
  "kernelspec": {
   "display_name": "Python 3",
   "language": "python",
   "name": "python3"
  },
  "language_info": {
   "codemirror_mode": {
    "name": "ipython",
    "version": 3
   },
   "file_extension": ".py",
   "mimetype": "text/x-python",
   "name": "python",
   "nbconvert_exporter": "python",
   "pygments_lexer": "ipython3",
   "version": "3.7.1"
  }
 },
 "nbformat": 4,
 "nbformat_minor": 2
}
