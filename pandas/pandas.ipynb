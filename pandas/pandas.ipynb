{
 "cells": [
  {
   "cell_type": "markdown",
   "metadata": {},
   "source": [
    "# Fifa tweet"
   ]
  },
  {
   "cell_type": "code",
   "execution_count": 2,
   "metadata": {},
   "outputs": [],
   "source": [
    "import pandas as pd\n",
    "import numpy as np"
   ]
  },
  {
   "cell_type": "code",
   "execution_count": 3,
   "metadata": {},
   "outputs": [],
   "source": [
    "data = pd.read_csv('FIFA.csv')"
   ]
  },
  {
   "cell_type": "code",
   "execution_count": 4,
   "metadata": {},
   "outputs": [],
   "source": [
    "dataFrame = pd.DataFrame(data)"
   ]
  },
  {
   "cell_type": "code",
   "execution_count": 93,
   "metadata": {
    "scrolled": true
   },
   "outputs": [],
   "source": [
    "def getNames():\n",
    "    def iterNames():\n",
    "        for name in dataFrame.Name[:40000]:\n",
    "            yield name\n",
    "    return set(iterNames())"
   ]
  },
  {
   "cell_type": "code",
   "execution_count": 5,
   "metadata": {},
   "outputs": [
    {
     "name": "stdout",
     "output_type": "stream",
     "text": [
      "                                         Names  Count\n",
      "2                                           ??    204\n",
      "7                       STAN LEGENDS, STAN EXO     24\n",
      "21                                    ?? ?? ??     19\n",
      "28                                        ????    209\n",
      "35                                   Guadalupe     20\n",
      "37                                  ?liszloey?     11\n",
      "47                                           .     42\n",
      "55                                           ?    304\n",
      "75                                    ????????     66\n",
      "83                         Minseok el inmortal     20\n",
      "102             Aleeh ?? Líder #EquipoXiumin ?     38\n",
      "121                                      ?? ??     17\n",
      "123                          Evelyn de Lagusna     44\n",
      "141                            ???????????????     25\n",
      "143                          Liz Jiménez Gante     59\n",
      "154                           Danelly KxS SxL?     69\n",
      "207                                  ? meaw ??     20\n",
      "209                                 Mr. grutas     22\n",
      "241                                      Paola     25\n",
      "250                       StayStrong & HoldOn?     18\n",
      "259                                     malena     31\n",
      "273                           ?constanza_kiss?     26\n",
      "276                                      jas ?     50\n",
      "280                              Isabel 7w7 ??     15\n",
      "286                                        ???    186\n",
      "288                                      ?????    137\n",
      "302                           Señora de Park.?     11\n",
      "319                      ???LoverFOX ? Fayri-?     76\n",
      "350                             Estrella @? ^^     25\n",
      "361                                 Sariitaa ?     15\n",
      "...                                        ...    ...\n",
      "12888                         Kobby Drinkwater     18\n",
      "13318                               •DARKNESS•     26\n",
      "13372                              Arun Thomas     12\n",
      "14373                          Kimberly Jenita     18\n",
      "14803                              Alan Parker     27\n",
      "15139                                Angie Red     13\n",
      "15549                                   Elneny     20\n",
      "15605                                    Negin    106\n",
      "15667                               Ana Gracin     30\n",
      "15843                             Izzati Najwa     16\n",
      "15930                         ExoForTheWin ???     70\n",
      "16403                            oluwe jackson     17\n",
      "16422               UKIP are the true Patriots     20\n",
      "16529                              srebrnalipa     17\n",
      "18183                             Ray@Thailand     14\n",
      "18885                            ?~Misuchin?~?     14\n",
      "19325                           ATHENA?Exo-???     34\n",
      "19347                 #TeamRayaSelangor #BEL??     11\n",
      "20089                          alkhansa'a™????     16\n",
      "20136                             Alex Railton     14\n",
      "20810                          Thomas Carrasco     15\n",
      "21208                     Yazdgerd J Bilimoria     18\n",
      "21699                       BTS & ARMY Forever     11\n",
      "22476                                  Pauleth     14\n",
      "22654                            Just Dreaming     12\n",
      "22672                                    A-2 ?     19\n",
      "23217                                  hussein     27\n",
      "23245                        ThatVintageSeller     11\n",
      "24991                               ASHMESSI10     17\n",
      "25544  democratic \"get rid of nazis\" socialist     18\n",
      "\n",
      "[174 rows x 2 columns]\n"
     ]
    }
   ],
   "source": [
    "from collections import Counter\n",
    "\n",
    "countNames = dict(Counter(dataFrame.Name[:40000]))\n",
    "items = [countNames.get(v) for v in countNames] \n",
    "keys = [i for i in countNames.keys()]\n",
    "dataDf = {'Names': keys, 'Count': items}\n",
    "df  = pd.DataFrame(dataDf)\n",
    "filter = df['Count'] > 10\n",
    "print(df[filter])\n"
   ]
  },
  {
   "cell_type": "code",
   "execution_count": 17,
   "metadata": {},
   "outputs": [
    {
     "name": "stdout",
     "output_type": "stream",
     "text": [
      "512035    The FIFA trophy is going back to France for th...\n",
      "Name: Tweet, dtype: object\n"
     ]
    }
   ],
   "source": [
    "\n",
    "unRts = dataFrame[dataFrame.Followers  >= 10400]\n",
    "filterLeng = dataFrame['len'] >= 110\n",
    "filterHashTags = dataFrame['Hashtags'] == 'WorldCup'\n",
    "filterLikes = dataFrame['Likes'] > 1100\n",
    "filterRts = dataFrame['RTs'] > 200\n",
    "filterName = dataFrame['Name'] == 'FOX Sports'\n",
    "\n",
    "\n",
    "result = dataFrame[filterLeng & filterHashTags & filterLikes & filterRts & filterName]\n",
    "print(result.Tweet)\n"
   ]
  },
  {
   "cell_type": "code",
   "execution_count": 1,
   "metadata": {},
   "outputs": [
    {
     "ename": "NameError",
     "evalue": "name 'dataFrame' is not defined",
     "output_type": "error",
     "traceback": [
      "\u001b[1;31m---------------------------------------------------------------------------\u001b[0m",
      "\u001b[1;31mNameError\u001b[0m                                 Traceback (most recent call last)",
      "\u001b[1;32m<ipython-input-1-a691d25b03e3>\u001b[0m in \u001b[0;36m<module>\u001b[1;34m\u001b[0m\n\u001b[0;32m      1\u001b[0m \u001b[1;33m\u001b[0m\u001b[0m\n\u001b[1;32m----> 2\u001b[1;33m \u001b[0mx\u001b[0m \u001b[1;33m=\u001b[0m\u001b[0mdataFrame\u001b[0m\u001b[1;33m.\u001b[0m\u001b[0mwhere\u001b[0m\u001b[1;33m(\u001b[0m\u001b[0mfilterName\u001b[0m\u001b[1;33m,\u001b[0m\u001b[0minplace\u001b[0m\u001b[1;33m=\u001b[0m\u001b[1;32mTrue\u001b[0m\u001b[1;33m)\u001b[0m\u001b[1;33m\u001b[0m\u001b[1;33m\u001b[0m\u001b[0m\n\u001b[0m",
      "\u001b[1;31mNameError\u001b[0m: name 'dataFrame' is not defined"
     ]
    }
   ],
   "source": [
    "\n",
    "x =dataFrame.where(filterName,inplace=True)\n"
   ]
  },
  {
   "cell_type": "code",
   "execution_count": 30,
   "metadata": {},
   "outputs": [],
   "source": [
    "import matplotlib.pyplot as plt"
   ]
  },
  {
   "cell_type": "code",
   "execution_count": 146,
   "metadata": {},
   "outputs": [
    {
     "name": "stdout",
     "output_type": "stream",
     "text": [
      "no one likes this\n",
      "Peter likes this\n",
      "Jacob and Alex like this\n",
      "Max, John and Mark like this\n",
      "Alex, Jacob and 3 others like this\n"
     ]
    }
   ],
   "source": [
    "        \n",
    "        \n",
    "def likes(names):\n",
    "    n = len(names)\n",
    "    return {\n",
    "        0: 'no one likes this',\n",
    "        1: '{} likes this', \n",
    "        2: '{} and {} like this', \n",
    "        3: '{}, {} and {} like this', \n",
    "        4: '{}, {} and {others} others like this'\n",
    "    }[min(4, n)].format(*names[:3], others=n-2)\n",
    "\n",
    "print(likes([]))\n",
    "print(likes([\"Peter\"]))\n",
    "print(likes([\"Jacob\", \"Alex\"]))\n",
    "print(likes([\"Max\", \"John\", \"Mark\"]))\n",
    "print(likes([\"Alex\", \"Jacob\", \"Mark\", \"Max\", \"Max\"]))\n"
   ]
  },
  {
   "cell_type": "code",
   "execution_count": null,
   "metadata": {},
   "outputs": [],
   "source": []
  }
 ],
 "metadata": {
  "kernelspec": {
   "display_name": "Python 3",
   "language": "python",
   "name": "python3"
  },
  "language_info": {
   "codemirror_mode": {
    "name": "ipython",
    "version": 3
   },
   "file_extension": ".py",
   "mimetype": "text/x-python",
   "name": "python",
   "nbconvert_exporter": "python",
   "pygments_lexer": "ipython3",
   "version": "3.7.1"
  }
 },
 "nbformat": 4,
 "nbformat_minor": 2
}
