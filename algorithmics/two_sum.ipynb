{
 "cells": [
  {
   "cell_type": "markdown",
   "metadata": {},
   "source": [
    "## Two sum"
   ]
  },
  {
   "cell_type": "code",
   "execution_count": null,
   "metadata": {},
   "outputs": [],
   "source": [
    "def sum_elements(collection,target):\n",
    "    for index,value in enumerate(collection):\n",
    "        for index2, value2 in enumerate(collection):\n",
    "            if value + value2 == target:\n",
    "                return [index, index2]\n",
    "    return []\n",
    "\n",
    "sum_elements([2,7,11,15],18)"
   ]
  },
  {
   "cell_type": "code",
   "execution_count": 42,
   "metadata": {},
   "outputs": [
    {
     "name": "stdout",
     "output_type": "stream",
     "text": [
      "{1: 0, 2: 1, 3: 2, 4: 3}\n",
      "3\n",
      "2\n",
      "1\n",
      "0\n"
     ]
    }
   ],
   "source": [
    "def two_sum(collection,target):\n",
    "    result_map = {}\n",
    "\n",
    "    for index , value in enumerate(collection):\n",
    "        result_map[value] = index\n",
    "\n",
    "    print(result_map)\n",
    "    for index , value in enumerate(collection):\n",
    "        value = target - value\n",
    "        if result_map.get(value) != index :\n",
    "             print(result_map.get(value))\n",
    "    \n",
    "two_sum([1,2,3,4],5)"
   ]
  },
  {
   "cell_type": "code",
   "execution_count": 82,
   "metadata": {},
   "outputs": [
    {
     "data": {
      "text/plain": [
       "[2, 3]"
      ]
     },
     "execution_count": 82,
     "metadata": {},
     "output_type": "execute_result"
    }
   ],
   "source": [
    "def twoSum(elements,target):\n",
    "    map_sum = dict()\n",
    "    for index,element in enumerate(elements):\n",
    "        result = target - element\n",
    "        if result in map_sum:\n",
    "            return [map_sum[result],index]\n",
    "        map_sum[element] = index \n",
    "    return []\n",
    "twoSum([1,7,1,2],3)"
   ]
  }
 ],
 "metadata": {
  "kernelspec": {
   "display_name": "Python 3",
   "language": "python",
   "name": "python3"
  },
  "language_info": {
   "codemirror_mode": {
    "name": "ipython",
    "version": 3
   },
   "file_extension": ".py",
   "mimetype": "text/x-python",
   "name": "python",
   "nbconvert_exporter": "python",
   "pygments_lexer": "ipython3",
   "version": "3.7.1"
  }
 },
 "nbformat": 4,
 "nbformat_minor": 2
}
