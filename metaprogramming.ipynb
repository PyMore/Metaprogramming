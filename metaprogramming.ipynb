{
 "cells": [
  {
   "cell_type": "markdown",
   "metadata": {},
   "source": [
    "The arguments when invoking type are the name of the class, a list of base classes, and a dictionary giving the namespace for the class (all the fields and methods). So the equivalent of:\n",
    "\n",
    "class C: pass\n",
    "c = type('C',(),{})"
   ]
  },
  {
   "cell_type": "code",
   "execution_count": 13,
   "metadata": {},
   "outputs": [
    {
     "name": "stdout",
     "output_type": "stream",
     "text": [
      "Homdy hey\n",
      "['Camembert']\n",
      "42\n",
      "<class '__main__.MyList'>\n"
     ]
    }
   ],
   "source": [
    "def homdy(self,you):\n",
    "    print(f'Homdy {you}')\n",
    "\n",
    "MyList  = type('MyList',(list,),dict(x=42,homdy=homdy))\n",
    "\n",
    "test = MyList()\n",
    "test.homdy('hey')\n",
    "test.append('Camembert')\n",
    "print(test)\n",
    "print(test.x)\n",
    "print(test.__class__)\n",
    "\n"
   ]
  },
  {
   "cell_type": "markdown",
   "metadata": {},
   "source": [
    "Metaclass programming looks like this"
   ]
  },
  {
   "cell_type": "code",
   "execution_count": 51,
   "metadata": {},
   "outputs": [
    {
     "name": "stdout",
     "output_type": "stream",
     "text": [
      "Yes!\n"
     ]
    }
   ],
   "source": [
    "\n",
    "class SimpleMetaClass(type):\n",
    "    \"\"\" Simple Meta Class\"\"\"\n",
    "    def __init__(cls, name, bases, nmspc):\n",
    "        super(SimpleMetaClass,cls).__init__(name, bases, nmspc)\n",
    "        cls.uses_metaclass = lambda cls : \"Yes!\"        \n",
    "\n",
    "class Demo(metaclass=SimpleMetaClass):\n",
    "    \"\"\" Demo Class \"\"\"\n",
    "    def foot(self): pass\n",
    "    \n",
    "    \n",
    "d = Demo()\n",
    "print(d.uses_metaclass())\n",
    "#d.uses_meta()"
   ]
  },
  {
   "cell_type": "markdown",
   "metadata": {},
   "source": []
  }
 ],
 "metadata": {
  "kernelspec": {
   "display_name": "Python 3",
   "language": "python",
   "name": "python3"
  },
  "language_info": {
   "codemirror_mode": {
    "name": "ipython",
    "version": 3
   },
   "file_extension": ".py",
   "mimetype": "text/x-python",
   "name": "python",
   "nbconvert_exporter": "python",
   "pygments_lexer": "ipython3",
   "version": "3.7.1"
  }
 },
 "nbformat": 4,
 "nbformat_minor": 2
}
