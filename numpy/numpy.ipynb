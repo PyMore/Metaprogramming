{
 "cells": [
  {
   "cell_type": "markdown",
   "metadata": {},
   "source": [
    "# NumPy basics"
   ]
  },
  {
   "cell_type": "code",
   "execution_count": 4,
   "metadata": {},
   "outputs": [
    {
     "name": "stdout",
     "output_type": "stream",
     "text": [
      "[0, 1, 2, 3, 4]\n",
      "[0.0, 2.5, 5.0, 7.5, 10.0]\n"
     ]
    }
   ],
   "source": [
    "data =  list(range(5))\n",
    "print(data)"
   ]
  },
  {
   "cell_type": "markdown",
   "metadata": {},
   "source": [
    "although this technique is inefficient and slow, especially when we want to evaluate functions, polynomials or any other mathematical operation that appears in any scientific problem."
   ]
  },
  {
   "cell_type": "markdown",
   "metadata": {},
   "source": [
    "An array can be created explicitly or from a list in the following way:\n",
    "\n",
    "\n"
   ]
  },
  {
   "cell_type": "code",
   "execution_count": 22,
   "metadata": {},
   "outputs": [],
   "source": [
    "import numpy as np"
   ]
  },
  {
   "cell_type": "code",
   "execution_count": 35,
   "metadata": {},
   "outputs": [
    {
     "name": "stdout",
     "output_type": "stream",
     "text": [
      "41.9 ms ± 6.69 ms per loop (mean ± std. dev. of 7 runs, 10 loops each)\n",
      "102 ms ± 14.2 ms per loop (mean ± std. dev. of 7 runs, 10 loops each)\n"
     ]
    }
   ],
   "source": [
    "%timeit  for i in range(1000000): pass\n",
    "#%timeit for x in xrange(1000000): pass\n",
    "%timeit for i in np.arange(1000000): pass"
   ]
  },
  {
   "cell_type": "code",
   "execution_count": 44,
   "metadata": {},
   "outputs": [
    {
     "data": {
      "text/plain": [
       "array([0., 1., 2., 3., 4., 5., 6., 7., 8., 9.])"
      ]
     },
     "execution_count": 44,
     "metadata": {},
     "output_type": "execute_result"
    }
   ],
   "source": [
    "np.arange(10)"
   ]
  },
  {
   "cell_type": "code",
   "execution_count": 45,
   "metadata": {},
   "outputs": [
    {
     "data": {
      "text/plain": [
       "array([0., 1., 2., 3., 4., 5., 6., 7., 8., 9.])"
      ]
     },
     "execution_count": 45,
     "metadata": {},
     "output_type": "execute_result"
    }
   ],
   "source": [
    "np.arange(10.)"
   ]
  },
  {
   "cell_type": "code",
   "execution_count": 49,
   "metadata": {},
   "outputs": [
    {
     "data": {
      "text/plain": [
       "array([0., 0., 0., 0., 0., 0., 0., 0., 0., 0.])"
      ]
     },
     "execution_count": 49,
     "metadata": {},
     "output_type": "execute_result"
    }
   ],
   "source": [
    "np.zeros(10) "
   ]
  },
  {
   "cell_type": "code",
   "execution_count": 50,
   "metadata": {},
   "outputs": [
    {
     "data": {
      "text/plain": [
       "array([1., 1., 1., 1., 1., 1., 1., 1., 1., 1.])"
      ]
     },
     "execution_count": 50,
     "metadata": {},
     "output_type": "execute_result"
    }
   ],
   "source": [
    "np.ones(10)"
   ]
  },
  {
   "cell_type": "code",
   "execution_count": 55,
   "metadata": {},
   "outputs": [
    {
     "data": {
      "text/plain": [
       "array([ 0.        ,  4.28571429,  8.57142857, 12.85714286, 17.14285714,\n",
       "       21.42857143, 25.71428571, 30.        ])"
      ]
     },
     "execution_count": 55,
     "metadata": {},
     "output_type": "execute_result"
    }
   ],
   "source": [
    "np.linspace(0,30,8)  # Array de 8 números, de 0 a 30 ambos incluidos"
   ]
  },
  {
   "cell_type": "markdown",
   "metadata": {},
   "source": [
    "indexing arrays"
   ]
  },
  {
   "cell_type": "code",
   "execution_count": 64,
   "metadata": {},
   "outputs": [
    {
     "name": "stdout",
     "output_type": "stream",
     "text": [
      "[ 0.          4.28571429  8.57142857 12.85714286 17.14285714 21.42857143\n",
      " 25.71428571 30.        ]\n",
      "[ 0.          4.28571429  8.57142857 12.85714286 17.14285714 21.42857143\n",
      " 25.71428571 30.        ]\n",
      "[ 8.57142857 17.14285714 25.71428571]\n"
     ]
    }
   ],
   "source": [
    "number = np.linspace(0,30,8)\n",
    "print(number)\n",
    "number[3:8]\n",
    "\n",
    "number[-7] # return the value indexing  that  array\n",
    "\n",
    "print(number[:]) \n",
    "print(number[2:8:2]) # Elements from the second to the seventh, but jumping two by two\n",
    "\n"
   ]
  },
  {
   "cell_type": "code",
   "execution_count": 65,
   "metadata": {},
   "outputs": [
    {
     "data": {
      "text/plain": [
       "8"
      ]
     },
     "execution_count": 65,
     "metadata": {},
     "output_type": "execute_result"
    }
   ],
   "source": [
    "len(number)"
   ]
  },
  {
   "cell_type": "markdown",
   "metadata": {},
   "source": [
    "Correct form to know the size array (numpy)"
   ]
  },
  {
   "cell_type": "code",
   "execution_count": 66,
   "metadata": {},
   "outputs": [
    {
     "data": {
      "text/plain": [
       "(8,)"
      ]
     },
     "execution_count": 66,
     "metadata": {},
     "output_type": "execute_result"
    }
   ],
   "source": [
    "number.shape"
   ]
  },
  {
   "cell_type": "code",
   "execution_count": 75,
   "metadata": {},
   "outputs": [
    {
     "name": "stdout",
     "output_type": "stream",
     "text": [
      "<class 'numpy.ndarray'>\n",
      "(6,)\n"
     ]
    }
   ],
   "source": [
    "all = np.arange(6)\n",
    "all\n",
    "data_float = all.astype('float')\n",
    "print(type(data_float))\n",
    "print(data_float.shape)"
   ]
  },
  {
   "cell_type": "code",
   "execution_count": 81,
   "metadata": {},
   "outputs": [
    {
     "name": "stdout",
     "output_type": "stream",
     "text": [
      "[ 5.6  8.3  9.7  5.3  8.2 14.2]\n",
      "[ 0.   7.3 15.4  6.9 16.8 46. ]\n",
      "[ 5.6  6.3  5.7 -0.7  0.2  4.2]\n"
     ]
    }
   ],
   "source": [
    "x = np.array([5.6, 7.3, 7.7, 2.3, 4.2, 9.2])\n",
    "print(x+data_float)\n",
    "print(x*data_float)\n",
    "print(x-data_float)"
   ]
  },
  {
   "cell_type": "markdown",
   "metadata": {},
   "source": [
    "Concat new  elements to array"
   ]
  },
  {
   "cell_type": "code",
   "execution_count": 85,
   "metadata": {},
   "outputs": [
    {
     "name": "stdout",
     "output_type": "stream",
     "text": [
      "[5.6 7.3 7.7 2.3 4.2 9.2 0.  1.  2.  3.  4.  5. ]\n"
     ]
    }
   ],
   "source": [
    "elements = np.concatenate((x,data_float))\n",
    "print(elements)"
   ]
  },
  {
   "cell_type": "markdown",
   "metadata": {},
   "source": [
    "append elements to array"
   ]
  },
  {
   "cell_type": "code",
   "execution_count": 89,
   "metadata": {},
   "outputs": [
    {
     "data": {
      "text/plain": [
       "array([  5.6,   7.3,   7.7,   2.3,   4.2,   9.2, 199. ])"
      ]
     },
     "execution_count": 89,
     "metadata": {},
     "output_type": "execute_result"
    }
   ],
   "source": [
    "np.append(x,199)"
   ]
  },
  {
   "cell_type": "markdown",
   "metadata": {},
   "source": [
    "insert  elements to array"
   ]
  },
  {
   "cell_type": "code",
   "execution_count": 91,
   "metadata": {},
   "outputs": [
    {
     "data": {
      "text/plain": [
       "array([  5.6,   7.3, 100. ,   7.7,   2.3,   4.2,   9.2])"
      ]
     },
     "execution_count": 91,
     "metadata": {},
     "output_type": "execute_result"
    }
   ],
   "source": [
    "np.insert(x,2,100)"
   ]
  },
  {
   "cell_type": "code",
   "execution_count": 96,
   "metadata": {},
   "outputs": [
    {
     "name": "stdout",
     "output_type": "stream",
     "text": [
      "[5.6 7.3 7.7 2.3 4.2 9.2]\n"
     ]
    },
    {
     "data": {
      "text/plain": [
       "array([  5.6,   7.3, -10. ,   7.7,   2.3, -30. ,   4.2, 100. ,   9.2])"
      ]
     },
     "execution_count": 96,
     "metadata": {},
     "output_type": "execute_result"
    }
   ],
   "source": [
    "np.insert(x, [2, 4,-1], [-10, -30,100])"
   ]
  },
  {
   "cell_type": "markdown",
   "metadata": {},
   "source": [
    "## Arithmetic operations"
   ]
  },
  {
   "cell_type": "code",
   "execution_count": 108,
   "metadata": {},
   "outputs": [
    {
     "name": "stdout",
     "output_type": "stream",
     "text": [
      "9.2\n",
      "2.3\n",
      "6.05\n",
      "2.305609102457165\n",
      "36.3\n",
      "6.449999999999999\n"
     ]
    }
   ],
   "source": [
    "print(x.max())\n",
    "print(x.min())\n",
    "print(x.mean()) # medium array value\n",
    "print(x.std())\n",
    "print(x.sum()) # sum all elements\n",
    "print(np.median(x))"
   ]
  },
  {
   "cell_type": "code",
   "execution_count": 113,
   "metadata": {},
   "outputs": [
    {
     "name": "stdout",
     "output_type": "stream",
     "text": [
      "[False False False]\n",
      "[1 0 3]\n",
      "[0 2 0]\n"
     ]
    }
   ],
   "source": [
    "A = np.array([True,False,True])\n",
    "B = np.array([False,True,False])\n",
    "print(A * B)\n",
    "C = np.array([1,2,3])\n",
    "print(A * C)\n",
    "print(B * C)"
   ]
  },
  {
   "cell_type": "markdown",
   "metadata": {},
   "source": [
    "\n",
    "It is also very simple and more practical to create matrices using logical operators and then use them as indexes, for example:"
   ]
  },
  {
   "cell_type": "code",
   "execution_count": 116,
   "metadata": {},
   "outputs": [
    {
     "name": "stdout",
     "output_type": "stream",
     "text": [
      "[ 0 10 20 30 40 50 60 70 80 90]\n",
      "[ 0 20 40 60 80]\n",
      "[10 20 50 80 90]\n"
     ]
    }
   ],
   "source": [
    "my_array = np.arange(0, 100, 10)\n",
    "i = np.arange(0, 10, 2)\n",
    "indi2 = np.array([False, True, True, False, False, True, False, False, True, True])\n",
    "print(my_array)\n",
    "print(my_array[i])\n",
    "print(my_array[indi2])"
   ]
  },
  {
   "cell_type": "code",
   "execution_count": 120,
   "metadata": {},
   "outputs": [
    {
     "name": "stdout",
     "output_type": "stream",
     "text": [
      "[False False False False False False  True  True  True  True]\n",
      "[60 70 80 90]\n"
     ]
    }
   ],
   "source": [
    "age50 = my_array > 50\n",
    "\n",
    "print(age50)\n",
    "print(my_array[age50])"
   ]
  },
  {
   "cell_type": "markdown",
   "metadata": {},
   "source": [
    "## Multidimensional matrix\n"
   ]
  },
  {
   "cell_type": "code",
   "execution_count": 122,
   "metadata": {},
   "outputs": [
    {
     "name": "stdout",
     "output_type": "stream",
     "text": [
      "[[ 10  20  30]\n",
      " [  9  99 999]\n",
      " [  0   2   3]]\n"
     ]
    }
   ],
   "source": [
    "arr0 = np.array([[10,20,30],[9, 99, 999],[0, 2, 3]])\n",
    "print(arr0)"
   ]
  },
  {
   "cell_type": "code",
   "execution_count": 140,
   "metadata": {},
   "outputs": [
    {
     "name": "stdout",
     "output_type": "stream",
     "text": [
      "[[0. 0. 0.]\n",
      " [0. 0. 0.]]\n",
      "(2, 3)\n"
     ]
    }
   ],
   "source": [
    "arr1 = np.zeros((2,3))\n",
    "print(arr1)\n",
    "print(arr1.shape)"
   ]
  },
  {
   "cell_type": "code",
   "execution_count": 139,
   "metadata": {},
   "outputs": [
    {
     "name": "stdout",
     "output_type": "stream",
     "text": [
      "[[1.]\n",
      " [1.]\n",
      " [1.]\n",
      " [1.]]\n",
      "(4, 1)\n"
     ]
    }
   ],
   "source": [
    "arr2 = np.ones((4,1))\n",
    "print(arr2)\n",
    "print(arr2.shape)"
   ]
  },
  {
   "cell_type": "code",
   "execution_count": 137,
   "metadata": {},
   "outputs": [
    {
     "name": "stdout",
     "output_type": "stream",
     "text": [
      "[[0 1 2]\n",
      " [3 4 5]\n",
      " [6 7 8]]\n",
      "(3, 3)\n"
     ]
    }
   ],
   "source": [
    "arr3 = np.arange(9).reshape((3, 3))\n",
    "print(arr3)\n",
    "print(arr3.shape)"
   ]
  },
  {
   "cell_type": "markdown",
   "metadata": {},
   "source": [
    "access to elements multidimensional matrix"
   ]
  },
  {
   "cell_type": "code",
   "execution_count": 143,
   "metadata": {},
   "outputs": [
    {
     "data": {
      "text/plain": [
       "0"
      ]
     },
     "execution_count": 143,
     "metadata": {},
     "output_type": "execute_result"
    }
   ],
   "source": [
    "arr3[0,0]"
   ]
  },
  {
   "cell_type": "code",
   "execution_count": 146,
   "metadata": {},
   "outputs": [
    {
     "data": {
      "text/plain": [
       "array([0, 3, 6])"
      ]
     },
     "execution_count": 146,
     "metadata": {},
     "output_type": "execute_result"
    }
   ],
   "source": [
    "# Primera columna\n",
    "arr3[:,0]"
   ]
  },
  {
   "cell_type": "code",
   "execution_count": 149,
   "metadata": {},
   "outputs": [
    {
     "data": {
      "text/plain": [
       "array([0, 1, 2])"
      ]
     },
     "execution_count": 149,
     "metadata": {},
     "output_type": "execute_result"
    }
   ],
   "source": [
    "arr3[0,:] \n",
    "# Primera fila"
   ]
  },
  {
   "cell_type": "code",
   "execution_count": 150,
   "metadata": {},
   "outputs": [
    {
     "data": {
      "text/plain": [
       "array([0, 1])"
      ]
     },
     "execution_count": 150,
     "metadata": {},
     "output_type": "execute_result"
    }
   ],
   "source": [
    "arr3[0,:2]\n",
    "# primera fila"
   ]
  },
  {
   "cell_type": "markdown",
   "metadata": {},
   "source": [
    "Update elements array"
   ]
  },
  {
   "cell_type": "code",
   "execution_count": 153,
   "metadata": {},
   "outputs": [
    {
     "data": {
      "text/plain": [
       "array([[1., 0., 0.],\n",
       "       [0., 0., 0.]])"
      ]
     },
     "execution_count": 153,
     "metadata": {},
     "output_type": "execute_result"
    }
   ],
   "source": [
    "arr1[0,0] = 1\n",
    "arr1"
   ]
  },
  {
   "cell_type": "code",
   "execution_count": 157,
   "metadata": {},
   "outputs": [
    {
     "data": {
      "text/plain": [
       "array([3., 4., 1.])"
      ]
     },
     "execution_count": 157,
     "metadata": {},
     "output_type": "execute_result"
    }
   ],
   "source": [
    "arr1[0,:] = [3,4,1]\n",
    "arr1[0,:]"
   ]
  },
  {
   "cell_type": "markdown",
   "metadata": {},
   "source": [
    "#  Changing the size of arrays"
   ]
  },
  {
   "cell_type": "code",
   "execution_count": 169,
   "metadata": {},
   "outputs": [
    {
     "name": "stdout",
     "output_type": "stream",
     "text": [
      "[   0    1    2 ... 9997 9998 9999]\n",
      "(10000,)\n"
     ]
    }
   ],
   "source": [
    "num = np.arange(10000) \n",
    "print(num)\n",
    "print(num.shape)"
   ]
  },
  {
   "cell_type": "code",
   "execution_count": 168,
   "metadata": {},
   "outputs": [
    {
     "name": "stdout",
     "output_type": "stream",
     "text": [
      "[[   0    1    2 ...   97   98   99]\n",
      " [ 100  101  102 ...  197  198  199]\n",
      " [ 200  201  202 ...  297  298  299]\n",
      " ...\n",
      " [9700 9701 9702 ... 9797 9798 9799]\n",
      " [9800 9801 9802 ... 9897 9898 9899]\n",
      " [9900 9901 9902 ... 9997 9998 9999]]\n",
      "(100, 100)\n"
     ]
    }
   ],
   "source": [
    "op2 = num.reshape((100,100))\n",
    "print(op2)\n",
    "print(op2.shape)"
   ]
  },
  {
   "cell_type": "code",
   "execution_count": 167,
   "metadata": {},
   "outputs": [
    {
     "name": "stdout",
     "output_type": "stream",
     "text": [
      "[[[   0    1    2 ...    7    8    9]\n",
      "  [  10   11   12 ...   17   18   19]\n",
      "  [  20   21   22 ...   27   28   29]\n",
      "  ...\n",
      "  [  70   71   72 ...   77   78   79]\n",
      "  [  80   81   82 ...   87   88   89]\n",
      "  [  90   91   92 ...   97   98   99]]\n",
      "\n",
      " [[ 100  101  102 ...  107  108  109]\n",
      "  [ 110  111  112 ...  117  118  119]\n",
      "  [ 120  121  122 ...  127  128  129]\n",
      "  ...\n",
      "  [ 170  171  172 ...  177  178  179]\n",
      "  [ 180  181  182 ...  187  188  189]\n",
      "  [ 190  191  192 ...  197  198  199]]\n",
      "\n",
      " [[ 200  201  202 ...  207  208  209]\n",
      "  [ 210  211  212 ...  217  218  219]\n",
      "  [ 220  221  222 ...  227  228  229]\n",
      "  ...\n",
      "  [ 270  271  272 ...  277  278  279]\n",
      "  [ 280  281  282 ...  287  288  289]\n",
      "  [ 290  291  292 ...  297  298  299]]\n",
      "\n",
      " ...\n",
      "\n",
      " [[9700 9701 9702 ... 9707 9708 9709]\n",
      "  [9710 9711 9712 ... 9717 9718 9719]\n",
      "  [9720 9721 9722 ... 9727 9728 9729]\n",
      "  ...\n",
      "  [9770 9771 9772 ... 9777 9778 9779]\n",
      "  [9780 9781 9782 ... 9787 9788 9789]\n",
      "  [9790 9791 9792 ... 9797 9798 9799]]\n",
      "\n",
      " [[9800 9801 9802 ... 9807 9808 9809]\n",
      "  [9810 9811 9812 ... 9817 9818 9819]\n",
      "  [9820 9821 9822 ... 9827 9828 9829]\n",
      "  ...\n",
      "  [9870 9871 9872 ... 9877 9878 9879]\n",
      "  [9880 9881 9882 ... 9887 9888 9889]\n",
      "  [9890 9891 9892 ... 9897 9898 9899]]\n",
      "\n",
      " [[9900 9901 9902 ... 9907 9908 9909]\n",
      "  [9910 9911 9912 ... 9917 9918 9919]\n",
      "  [9920 9921 9922 ... 9927 9928 9929]\n",
      "  ...\n",
      "  [9970 9971 9972 ... 9977 9978 9979]\n",
      "  [9980 9981 9982 ... 9987 9988 9989]\n",
      "  [9990 9991 9992 ... 9997 9998 9999]]]\n",
      "(100, 10, 10)\n"
     ]
    }
   ],
   "source": [
    "op3 = num.reshape((100,10,10))\n",
    "print(op3)\n",
    "print(op3.shape)"
   ]
  },
  {
   "cell_type": "markdown",
   "metadata": {},
   "source": [
    "## Masked Arrays"
   ]
  },
  {
   "cell_type": "code",
   "execution_count": 183,
   "metadata": {},
   "outputs": [
    {
     "name": "stdout",
     "output_type": "stream",
     "text": [
      "[ 3  7 -2  6  7 -8 11 -1 -2  8]\n",
      "[ True  True False  True  True False  True False False  True]\n",
      "[ 3  7  0  6  7  0 11  0  0  8]\n",
      "[ 3  7  6  7 11  8]\n"
     ]
    }
   ],
   "source": [
    "data = np.array([3, 7, -2, 6, 7, -8, 11, -1, -2, 8])\n",
    "print(data)\n",
    "mask = datos > 0\n",
    "print(mask)\n",
    "print(datos * mask)\n",
    "print(datos[mask]) # show masked\n"
   ]
  },
  {
   "cell_type": "code",
   "execution_count": 184,
   "metadata": {},
   "outputs": [],
   "source": [
    "from numpy import  random"
   ]
  },
  {
   "cell_type": "code",
   "execution_count": 188,
   "metadata": {},
   "outputs": [
    {
     "name": "stdout",
     "output_type": "stream",
     "text": [
      "[[-2 -1]\n",
      " [-7 12]\n",
      " [ 4 -1]\n",
      " [ 5 12]\n",
      " [ 0 -1]\n",
      " [15  8]\n",
      " [-6 19]\n",
      " [ 4 -9]\n",
      " [-5 17]\n",
      " [10 11]]\n"
     ]
    }
   ],
   "source": [
    " values = random.randint(-10, 20, (10,2))\n",
    "print(values)"
   ]
  },
  {
   "cell_type": "code",
   "execution_count": 193,
   "metadata": {},
   "outputs": [
    {
     "data": {
      "text/plain": [
       "array([False, False,  True,  True, False,  True, False,  True, False,\n",
       "        True])"
      ]
     },
     "execution_count": 193,
     "metadata": {},
     "output_type": "execute_result"
    }
   ],
   "source": [
    "condition1 = values[:,0] > 0\n",
    "condition1"
   ]
  },
  {
   "cell_type": "code",
   "execution_count": 192,
   "metadata": {},
   "outputs": [
    {
     "data": {
      "text/plain": [
       "array([ True, False,  True, False,  True,  True, False,  True, False,\n",
       "       False])"
      ]
     },
     "execution_count": 192,
     "metadata": {},
     "output_type": "execute_result"
    }
   ],
   "source": [
    "condition2 = values[:,1] < 10\n",
    "condition2"
   ]
  },
  {
   "cell_type": "code",
   "execution_count": 195,
   "metadata": {},
   "outputs": [
    {
     "data": {
      "text/plain": [
       "array([False, False,  True, False, False,  True, False,  True, False,\n",
       "       False])"
      ]
     },
     "execution_count": 195,
     "metadata": {},
     "output_type": "execute_result"
    }
   ],
   "source": [
    "mask_col0 = condition1*condition2\n",
    "mask_col0"
   ]
  },
  {
   "cell_type": "code",
   "execution_count": 196,
   "metadata": {},
   "outputs": [
    {
     "data": {
      "text/plain": [
       "array([[ 4, -1],\n",
       "       [15,  8],\n",
       "       [ 4, -9]])"
      ]
     },
     "execution_count": 196,
     "metadata": {},
     "output_type": "execute_result"
    }
   ],
   "source": [
    "values[mask_col0]"
   ]
  },
  {
   "cell_type": "markdown",
   "metadata": {},
   "source": [
    "## numpy.ma"
   ]
  },
  {
   "cell_type": "code",
   "execution_count": 199,
   "metadata": {},
   "outputs": [],
   "source": [
    "import numpy.ma as ma"
   ]
  },
  {
   "cell_type": "code",
   "execution_count": 206,
   "metadata": {},
   "outputs": [
    {
     "name": "stdout",
     "output_type": "stream",
     "text": [
      "[1 2 3 -- 5]\n"
     ]
    }
   ],
   "source": [
    "x = np.array([1, 2, 3, -1, 5])\n",
    "mx = ma.masked_array(x, mask=[0, 0, 0, 1, 0])\n",
    "print(mx)"
   ]
  }
 ],
 "metadata": {
  "kernelspec": {
   "display_name": "Python 3",
   "language": "python",
   "name": "python3"
  },
  "language_info": {
   "codemirror_mode": {
    "name": "ipython",
    "version": 3
   },
   "file_extension": ".py",
   "mimetype": "text/x-python",
   "name": "python",
   "nbconvert_exporter": "python",
   "pygments_lexer": "ipython3",
   "version": "3.7.1"
  }
 },
 "nbformat": 4,
 "nbformat_minor": 2
}
