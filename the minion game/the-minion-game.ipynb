{
 "cells": [
  {
   "cell_type": "code",
   "execution_count": 22,
   "metadata": {},
   "outputs": [
    {
     "name": "stdout",
     "output_type": "stream",
     "text": [
      "0\n",
      "Kevin\n",
      "0\n",
      "Stuart\n"
     ]
    },
    {
     "data": {
      "text/plain": [
       "<generator object minion_game at 0x000001BAACCC7228>"
      ]
     },
     "execution_count": 22,
     "metadata": {},
     "output_type": "execute_result"
    }
   ],
   "source": [
    "class Player:\n",
    "    def __init__(self,name):\n",
    "        self._name = name\n",
    "        self._points =0\n",
    "    \n",
    "    @property\n",
    "    def points(self):\n",
    "        return self._points\n",
    "    \n",
    "    @property\n",
    "    def name(self):\n",
    "        return self._name\n",
    "    \n",
    "    @points.setter\n",
    "    def points(self,value):\n",
    "        self._points = value\n",
    "        \n",
    "    @name.setter\n",
    "    def name(self,value):\n",
    "        self._name = value\n",
    "\n",
    "\n",
    "player1 = Player(\"Kevin\")\n",
    "player2 = Player(\"Stuart\")\n",
    "\n",
    "print(player1.points)  \n",
    "print(player1.name)\n",
    "\n",
    "print(player2.points)  \n",
    "print(player2.name)\n",
    "\n",
    "def minion_game(text):\n",
    "    text = text.upper()\n",
    "    for t in text:\n",
    "        yield t\n",
    "        print(t)\n",
    "    \n",
    "    \n",
    "minion_game(\"BANAN\")"
   ]
  },
  {
   "cell_type": "code",
   "execution_count": 7,
   "metadata": {},
   "outputs": [],
   "source": []
  }
 ],
 "metadata": {
  "kernelspec": {
   "display_name": "Python 3",
   "language": "python",
   "name": "python3"
  },
  "language_info": {
   "codemirror_mode": {
    "name": "ipython",
    "version": 3
   },
   "file_extension": ".py",
   "mimetype": "text/x-python",
   "name": "python",
   "nbconvert_exporter": "python",
   "pygments_lexer": "ipython3",
   "version": "3.7.1"
  }
 },
 "nbformat": 4,
 "nbformat_minor": 2
}
